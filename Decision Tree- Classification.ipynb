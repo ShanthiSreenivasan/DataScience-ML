{
 "cells": [
  {
   "cell_type": "code",
   "execution_count": 1,
   "id": "8ceadc93",
   "metadata": {},
   "outputs": [],
   "source": [
    "## Importing the libraries\n",
    "import os\n",
    "import pandas as pd\n",
    "import numpy as np\n",
    "import matplotlib.pyplot as plt"
   ]
  },
  {
   "cell_type": "code",
   "execution_count": 2,
   "id": "eee0189a",
   "metadata": {},
   "outputs": [],
   "source": [
    "#Setting directory (file path) to access dataset\n",
    "data_dir=r\"C:\\Users\\Ishita Malhotra\\Downloads\\IPBA Sessions\\Classification and Regression Trees\"\n",
    "os.chdir(data_dir)"
   ]
  },
  {
   "cell_type": "code",
   "execution_count": 3,
   "id": "828c481b",
   "metadata": {},
   "outputs": [],
   "source": [
    "#Importing the dataset\n",
    "dataset = pd.read_csv('credit_history.csv')"
   ]
  },
  {
   "cell_type": "code",
   "execution_count": 4,
   "id": "a02bcbcc",
   "metadata": {
    "scrolled": true
   },
   "outputs": [
    {
     "data": {
      "text/html": [
       "<div>\n",
       "<style scoped>\n",
       "    .dataframe tbody tr th:only-of-type {\n",
       "        vertical-align: middle;\n",
       "    }\n",
       "\n",
       "    .dataframe tbody tr th {\n",
       "        vertical-align: top;\n",
       "    }\n",
       "\n",
       "    .dataframe thead th {\n",
       "        text-align: right;\n",
       "    }\n",
       "</style>\n",
       "<table border=\"1\" class=\"dataframe\">\n",
       "  <thead>\n",
       "    <tr style=\"text-align: right;\">\n",
       "      <th></th>\n",
       "      <th>default</th>\n",
       "      <th>amount</th>\n",
       "      <th>grade</th>\n",
       "      <th>years</th>\n",
       "      <th>ownership</th>\n",
       "      <th>income</th>\n",
       "      <th>age</th>\n",
       "    </tr>\n",
       "  </thead>\n",
       "  <tbody>\n",
       "    <tr>\n",
       "      <th>0</th>\n",
       "      <td>0</td>\n",
       "      <td>1000</td>\n",
       "      <td>B</td>\n",
       "      <td>2.0</td>\n",
       "      <td>RENT</td>\n",
       "      <td>19200.0</td>\n",
       "      <td>24</td>\n",
       "    </tr>\n",
       "    <tr>\n",
       "      <th>1</th>\n",
       "      <td>1</td>\n",
       "      <td>6500</td>\n",
       "      <td>A</td>\n",
       "      <td>2.0</td>\n",
       "      <td>MORTGAGE</td>\n",
       "      <td>66000.0</td>\n",
       "      <td>28</td>\n",
       "    </tr>\n",
       "    <tr>\n",
       "      <th>2</th>\n",
       "      <td>0</td>\n",
       "      <td>2400</td>\n",
       "      <td>A</td>\n",
       "      <td>2.0</td>\n",
       "      <td>RENT</td>\n",
       "      <td>60000.0</td>\n",
       "      <td>36</td>\n",
       "    </tr>\n",
       "    <tr>\n",
       "      <th>3</th>\n",
       "      <td>0</td>\n",
       "      <td>10000</td>\n",
       "      <td>C</td>\n",
       "      <td>3.0</td>\n",
       "      <td>RENT</td>\n",
       "      <td>62000.0</td>\n",
       "      <td>24</td>\n",
       "    </tr>\n",
       "    <tr>\n",
       "      <th>4</th>\n",
       "      <td>1</td>\n",
       "      <td>4000</td>\n",
       "      <td>C</td>\n",
       "      <td>2.0</td>\n",
       "      <td>RENT</td>\n",
       "      <td>20000.0</td>\n",
       "      <td>28</td>\n",
       "    </tr>\n",
       "  </tbody>\n",
       "</table>\n",
       "</div>"
      ],
      "text/plain": [
       "   default  amount grade  years ownership   income  age\n",
       "0        0    1000     B    2.0      RENT  19200.0   24\n",
       "1        1    6500     A    2.0  MORTGAGE  66000.0   28\n",
       "2        0    2400     A    2.0      RENT  60000.0   36\n",
       "3        0   10000     C    3.0      RENT  62000.0   24\n",
       "4        1    4000     C    2.0      RENT  20000.0   28"
      ]
     },
     "execution_count": 4,
     "metadata": {},
     "output_type": "execute_result"
    }
   ],
   "source": [
    "dataset.head()"
   ]
  },
  {
   "cell_type": "code",
   "execution_count": 5,
   "id": "e6895037",
   "metadata": {},
   "outputs": [
    {
     "data": {
      "text/plain": [
       "default        0\n",
       "amount         0\n",
       "grade          0\n",
       "years        279\n",
       "ownership      0\n",
       "income         0\n",
       "age            0\n",
       "dtype: int64"
      ]
     },
     "execution_count": 5,
     "metadata": {},
     "output_type": "execute_result"
    }
   ],
   "source": [
    "#Data audit\n",
    "dataset.isnull().sum()"
   ]
  },
  {
   "cell_type": "code",
   "execution_count": 6,
   "id": "36188c8b",
   "metadata": {},
   "outputs": [
    {
     "data": {
      "text/plain": [
       "count    7448.000000\n",
       "mean        6.086332\n",
       "std         6.700758\n",
       "min         0.000000\n",
       "25%         2.000000\n",
       "50%         4.000000\n",
       "75%         8.000000\n",
       "max        62.000000\n",
       "Name: years, dtype: float64"
      ]
     },
     "execution_count": 6,
     "metadata": {},
     "output_type": "execute_result"
    }
   ],
   "source": [
    "dataset['years'].describe()"
   ]
  },
  {
   "cell_type": "code",
   "execution_count": 7,
   "id": "752e61d3",
   "metadata": {},
   "outputs": [],
   "source": [
    "#Data CLeaning\n",
    "dataset['years'].fillna(4,inplace=True)"
   ]
  },
  {
   "cell_type": "code",
   "execution_count": 8,
   "id": "7f34f54b",
   "metadata": {},
   "outputs": [],
   "source": [
    "X=dataset.drop(\"default\",axis=1)"
   ]
  },
  {
   "cell_type": "code",
   "execution_count": 9,
   "id": "68e7fede",
   "metadata": {},
   "outputs": [
    {
     "data": {
      "text/html": [
       "<div>\n",
       "<style scoped>\n",
       "    .dataframe tbody tr th:only-of-type {\n",
       "        vertical-align: middle;\n",
       "    }\n",
       "\n",
       "    .dataframe tbody tr th {\n",
       "        vertical-align: top;\n",
       "    }\n",
       "\n",
       "    .dataframe thead th {\n",
       "        text-align: right;\n",
       "    }\n",
       "</style>\n",
       "<table border=\"1\" class=\"dataframe\">\n",
       "  <thead>\n",
       "    <tr style=\"text-align: right;\">\n",
       "      <th></th>\n",
       "      <th>amount</th>\n",
       "      <th>grade</th>\n",
       "      <th>years</th>\n",
       "      <th>ownership</th>\n",
       "      <th>income</th>\n",
       "      <th>age</th>\n",
       "    </tr>\n",
       "  </thead>\n",
       "  <tbody>\n",
       "    <tr>\n",
       "      <th>0</th>\n",
       "      <td>1000</td>\n",
       "      <td>B</td>\n",
       "      <td>2.0</td>\n",
       "      <td>RENT</td>\n",
       "      <td>19200.0</td>\n",
       "      <td>24</td>\n",
       "    </tr>\n",
       "    <tr>\n",
       "      <th>1</th>\n",
       "      <td>6500</td>\n",
       "      <td>A</td>\n",
       "      <td>2.0</td>\n",
       "      <td>MORTGAGE</td>\n",
       "      <td>66000.0</td>\n",
       "      <td>28</td>\n",
       "    </tr>\n",
       "    <tr>\n",
       "      <th>2</th>\n",
       "      <td>2400</td>\n",
       "      <td>A</td>\n",
       "      <td>2.0</td>\n",
       "      <td>RENT</td>\n",
       "      <td>60000.0</td>\n",
       "      <td>36</td>\n",
       "    </tr>\n",
       "    <tr>\n",
       "      <th>3</th>\n",
       "      <td>10000</td>\n",
       "      <td>C</td>\n",
       "      <td>3.0</td>\n",
       "      <td>RENT</td>\n",
       "      <td>62000.0</td>\n",
       "      <td>24</td>\n",
       "    </tr>\n",
       "    <tr>\n",
       "      <th>4</th>\n",
       "      <td>4000</td>\n",
       "      <td>C</td>\n",
       "      <td>2.0</td>\n",
       "      <td>RENT</td>\n",
       "      <td>20000.0</td>\n",
       "      <td>28</td>\n",
       "    </tr>\n",
       "  </tbody>\n",
       "</table>\n",
       "</div>"
      ],
      "text/plain": [
       "   amount grade  years ownership   income  age\n",
       "0    1000     B    2.0      RENT  19200.0   24\n",
       "1    6500     A    2.0  MORTGAGE  66000.0   28\n",
       "2    2400     A    2.0      RENT  60000.0   36\n",
       "3   10000     C    3.0      RENT  62000.0   24\n",
       "4    4000     C    2.0      RENT  20000.0   28"
      ]
     },
     "execution_count": 9,
     "metadata": {},
     "output_type": "execute_result"
    }
   ],
   "source": [
    "X.head()"
   ]
  },
  {
   "cell_type": "code",
   "execution_count": 10,
   "id": "4d6794e7",
   "metadata": {},
   "outputs": [],
   "source": [
    "X=pd.get_dummies(X)"
   ]
  },
  {
   "cell_type": "code",
   "execution_count": 11,
   "id": "03dcc738",
   "metadata": {
    "scrolled": true
   },
   "outputs": [
    {
     "data": {
      "text/html": [
       "<div>\n",
       "<style scoped>\n",
       "    .dataframe tbody tr th:only-of-type {\n",
       "        vertical-align: middle;\n",
       "    }\n",
       "\n",
       "    .dataframe tbody tr th {\n",
       "        vertical-align: top;\n",
       "    }\n",
       "\n",
       "    .dataframe thead th {\n",
       "        text-align: right;\n",
       "    }\n",
       "</style>\n",
       "<table border=\"1\" class=\"dataframe\">\n",
       "  <thead>\n",
       "    <tr style=\"text-align: right;\">\n",
       "      <th></th>\n",
       "      <th>amount</th>\n",
       "      <th>years</th>\n",
       "      <th>income</th>\n",
       "      <th>age</th>\n",
       "      <th>grade_A</th>\n",
       "      <th>grade_B</th>\n",
       "      <th>grade_C</th>\n",
       "      <th>grade_D</th>\n",
       "      <th>grade_E</th>\n",
       "      <th>grade_F</th>\n",
       "      <th>grade_G</th>\n",
       "      <th>ownership_MORTGAGE</th>\n",
       "      <th>ownership_OTHER</th>\n",
       "      <th>ownership_OWN</th>\n",
       "      <th>ownership_RENT</th>\n",
       "    </tr>\n",
       "  </thead>\n",
       "  <tbody>\n",
       "    <tr>\n",
       "      <th>0</th>\n",
       "      <td>1000</td>\n",
       "      <td>2.0</td>\n",
       "      <td>19200.0</td>\n",
       "      <td>24</td>\n",
       "      <td>0</td>\n",
       "      <td>1</td>\n",
       "      <td>0</td>\n",
       "      <td>0</td>\n",
       "      <td>0</td>\n",
       "      <td>0</td>\n",
       "      <td>0</td>\n",
       "      <td>0</td>\n",
       "      <td>0</td>\n",
       "      <td>0</td>\n",
       "      <td>1</td>\n",
       "    </tr>\n",
       "    <tr>\n",
       "      <th>1</th>\n",
       "      <td>6500</td>\n",
       "      <td>2.0</td>\n",
       "      <td>66000.0</td>\n",
       "      <td>28</td>\n",
       "      <td>1</td>\n",
       "      <td>0</td>\n",
       "      <td>0</td>\n",
       "      <td>0</td>\n",
       "      <td>0</td>\n",
       "      <td>0</td>\n",
       "      <td>0</td>\n",
       "      <td>1</td>\n",
       "      <td>0</td>\n",
       "      <td>0</td>\n",
       "      <td>0</td>\n",
       "    </tr>\n",
       "    <tr>\n",
       "      <th>2</th>\n",
       "      <td>2400</td>\n",
       "      <td>2.0</td>\n",
       "      <td>60000.0</td>\n",
       "      <td>36</td>\n",
       "      <td>1</td>\n",
       "      <td>0</td>\n",
       "      <td>0</td>\n",
       "      <td>0</td>\n",
       "      <td>0</td>\n",
       "      <td>0</td>\n",
       "      <td>0</td>\n",
       "      <td>0</td>\n",
       "      <td>0</td>\n",
       "      <td>0</td>\n",
       "      <td>1</td>\n",
       "    </tr>\n",
       "    <tr>\n",
       "      <th>3</th>\n",
       "      <td>10000</td>\n",
       "      <td>3.0</td>\n",
       "      <td>62000.0</td>\n",
       "      <td>24</td>\n",
       "      <td>0</td>\n",
       "      <td>0</td>\n",
       "      <td>1</td>\n",
       "      <td>0</td>\n",
       "      <td>0</td>\n",
       "      <td>0</td>\n",
       "      <td>0</td>\n",
       "      <td>0</td>\n",
       "      <td>0</td>\n",
       "      <td>0</td>\n",
       "      <td>1</td>\n",
       "    </tr>\n",
       "    <tr>\n",
       "      <th>4</th>\n",
       "      <td>4000</td>\n",
       "      <td>2.0</td>\n",
       "      <td>20000.0</td>\n",
       "      <td>28</td>\n",
       "      <td>0</td>\n",
       "      <td>0</td>\n",
       "      <td>1</td>\n",
       "      <td>0</td>\n",
       "      <td>0</td>\n",
       "      <td>0</td>\n",
       "      <td>0</td>\n",
       "      <td>0</td>\n",
       "      <td>0</td>\n",
       "      <td>0</td>\n",
       "      <td>1</td>\n",
       "    </tr>\n",
       "  </tbody>\n",
       "</table>\n",
       "</div>"
      ],
      "text/plain": [
       "   amount  years   income  age  grade_A  grade_B  grade_C  grade_D  grade_E  \\\n",
       "0    1000    2.0  19200.0   24        0        1        0        0        0   \n",
       "1    6500    2.0  66000.0   28        1        0        0        0        0   \n",
       "2    2400    2.0  60000.0   36        1        0        0        0        0   \n",
       "3   10000    3.0  62000.0   24        0        0        1        0        0   \n",
       "4    4000    2.0  20000.0   28        0        0        1        0        0   \n",
       "\n",
       "   grade_F  grade_G  ownership_MORTGAGE  ownership_OTHER  ownership_OWN  \\\n",
       "0        0        0                   0                0              0   \n",
       "1        0        0                   1                0              0   \n",
       "2        0        0                   0                0              0   \n",
       "3        0        0                   0                0              0   \n",
       "4        0        0                   0                0              0   \n",
       "\n",
       "   ownership_RENT  \n",
       "0               1  \n",
       "1               0  \n",
       "2               1  \n",
       "3               1  \n",
       "4               1  "
      ]
     },
     "execution_count": 11,
     "metadata": {},
     "output_type": "execute_result"
    }
   ],
   "source": [
    "X.head()"
   ]
  },
  {
   "cell_type": "code",
   "execution_count": 12,
   "id": "00088570",
   "metadata": {},
   "outputs": [],
   "source": [
    "Y=dataset['default']"
   ]
  },
  {
   "cell_type": "code",
   "execution_count": 13,
   "id": "30423d09",
   "metadata": {},
   "outputs": [
    {
     "data": {
      "text/plain": [
       "0    0\n",
       "1    1\n",
       "2    0\n",
       "3    0\n",
       "4    1\n",
       "Name: default, dtype: int64"
      ]
     },
     "execution_count": 13,
     "metadata": {},
     "output_type": "execute_result"
    }
   ],
   "source": [
    "Y.head()"
   ]
  },
  {
   "cell_type": "code",
   "execution_count": 14,
   "id": "f8b2991d",
   "metadata": {},
   "outputs": [],
   "source": [
    "from sklearn.model_selection import train_test_split\n",
    "X_train, X_test, Y_train, Y_test = train_test_split(X, Y, test_size = 0.2, random_state = 200)"
   ]
  },
  {
   "cell_type": "code",
   "execution_count": 15,
   "id": "3ce4b12c",
   "metadata": {
    "scrolled": true
   },
   "outputs": [
    {
     "name": "stdout",
     "output_type": "stream",
     "text": [
      "      amount  years    income  age  grade_A  grade_B  grade_C  grade_D  \\\n",
      "773     1500   22.0   32304.0   24        0        1        0        0   \n",
      "5290   15000   18.0   78840.0   39        0        1        0        0   \n",
      "1692    3500    3.0   30000.0   22        0        0        1        0   \n",
      "2478    8400    1.0   36000.0   23        1        0        0        0   \n",
      "3138    6000   16.0   77000.0   20        1        0        0        0   \n",
      "...      ...    ...       ...  ...      ...      ...      ...      ...   \n",
      "2858   17000    0.0   65000.0   26        0        0        1        0   \n",
      "5956    2500    2.0   40000.0   22        0        0        1        0   \n",
      "784     7000    4.0   39120.0   23        0        1        0        0   \n",
      "4713    7000   12.0   50000.0   24        0        1        0        0   \n",
      "1818    5600   14.0  120000.0   26        0        0        1        0   \n",
      "\n",
      "      grade_E  grade_F  grade_G  ownership_MORTGAGE  ownership_OTHER  \\\n",
      "773         0        0        0                   0                0   \n",
      "5290        0        0        0                   1                0   \n",
      "1692        0        0        0                   0                0   \n",
      "2478        0        0        0                   0                0   \n",
      "3138        0        0        0                   1                0   \n",
      "...       ...      ...      ...                 ...              ...   \n",
      "2858        0        0        0                   0                0   \n",
      "5956        0        0        0                   0                0   \n",
      "784         0        0        0                   0                0   \n",
      "4713        0        0        0                   0                0   \n",
      "1818        0        0        0                   1                0   \n",
      "\n",
      "      ownership_OWN  ownership_RENT  \n",
      "773               0               1  \n",
      "5290              0               0  \n",
      "1692              0               1  \n",
      "2478              0               1  \n",
      "3138              0               0  \n",
      "...             ...             ...  \n",
      "2858              0               1  \n",
      "5956              0               1  \n",
      "784               1               0  \n",
      "4713              0               1  \n",
      "1818              0               0  \n",
      "\n",
      "[6181 rows x 15 columns]\n"
     ]
    }
   ],
   "source": [
    "print(X_train)"
   ]
  },
  {
   "cell_type": "code",
   "execution_count": 17,
   "id": "5e245197",
   "metadata": {},
   "outputs": [
    {
     "name": "stdout",
     "output_type": "stream",
     "text": [
      "      amount  years    income  age  grade_A  grade_B  grade_C  grade_D  \\\n",
      "6916    3000    1.0   64170.0   22        1        0        0        0   \n",
      "2306    2300    0.0   78000.0   24        1        0        0        0   \n",
      "2459    9000    4.0  200000.0   31        1        0        0        0   \n",
      "7386    2500    5.0   22406.0   26        1        0        0        0   \n",
      "2230   12000    9.0   52000.0   24        1        0        0        0   \n",
      "...      ...    ...       ...  ...      ...      ...      ...      ...   \n",
      "1315   13275    4.0   38040.0   30        0        0        1        0   \n",
      "7500   10000    4.0   36000.0   24        0        0        0        1   \n",
      "1052    7000    0.0   25000.0   22        0        0        1        0   \n",
      "3225    3000    8.0   58704.0   26        0        1        0        0   \n",
      "1239   14100    5.0   51900.0   22        0        1        0        0   \n",
      "\n",
      "      grade_E  grade_F  grade_G  ownership_MORTGAGE  ownership_OTHER  \\\n",
      "6916        0        0        0                   0                0   \n",
      "2306        0        0        0                   1                0   \n",
      "2459        0        0        0                   1                0   \n",
      "7386        0        0        0                   0                0   \n",
      "2230        0        0        0                   1                0   \n",
      "...       ...      ...      ...                 ...              ...   \n",
      "1315        0        0        0                   0                0   \n",
      "7500        0        0        0                   1                0   \n",
      "1052        0        0        0                   0                0   \n",
      "3225        0        0        0                   1                0   \n",
      "1239        0        0        0                   1                0   \n",
      "\n",
      "      ownership_OWN  ownership_RENT  \n",
      "6916              0               1  \n",
      "2306              0               0  \n",
      "2459              0               0  \n",
      "7386              0               1  \n",
      "2230              0               0  \n",
      "...             ...             ...  \n",
      "1315              0               1  \n",
      "7500              0               0  \n",
      "1052              0               1  \n",
      "3225              0               0  \n",
      "1239              0               0  \n",
      "\n",
      "[1546 rows x 15 columns]\n"
     ]
    }
   ],
   "source": [
    "print(X_test)"
   ]
  },
  {
   "cell_type": "code",
   "execution_count": 16,
   "id": "ad851c6b",
   "metadata": {},
   "outputs": [
    {
     "name": "stdout",
     "output_type": "stream",
     "text": [
      "773     1\n",
      "5290    0\n",
      "1692    1\n",
      "2478    1\n",
      "3138    0\n",
      "       ..\n",
      "2858    0\n",
      "5956    1\n",
      "784     0\n",
      "4713    0\n",
      "1818    0\n",
      "Name: default, Length: 6181, dtype: int64\n"
     ]
    }
   ],
   "source": [
    "print(Y_train)"
   ]
  },
  {
   "cell_type": "code",
   "execution_count": 18,
   "id": "88770cb9",
   "metadata": {
    "scrolled": true
   },
   "outputs": [
    {
     "name": "stdout",
     "output_type": "stream",
     "text": [
      "6916    1\n",
      "2306    1\n",
      "2459    1\n",
      "7386    1\n",
      "2230    1\n",
      "       ..\n",
      "1315    1\n",
      "7500    1\n",
      "1052    0\n",
      "3225    1\n",
      "1239    0\n",
      "Name: default, Length: 1546, dtype: int64\n"
     ]
    }
   ],
   "source": [
    "print(Y_test)"
   ]
  },
  {
   "cell_type": "code",
   "execution_count": 19,
   "id": "17afe1bd",
   "metadata": {},
   "outputs": [
    {
     "data": {
      "text/plain": [
       "0.6274256144890039"
      ]
     },
     "execution_count": 19,
     "metadata": {},
     "output_type": "execute_result"
    }
   ],
   "source": [
    "from sklearn.tree import DecisionTreeClassifier\n",
    "classifier = DecisionTreeClassifier(max_depth=3, random_state = 200)\n",
    "classifier.fit(X_train, Y_train)\n",
    "classifier.score(X_test, Y_test)"
   ]
  },
  {
   "cell_type": "code",
   "execution_count": 20,
   "id": "e601c02a",
   "metadata": {},
   "outputs": [
    {
     "data": {
      "text/plain": [
       "0.6721250820352787"
      ]
     },
     "execution_count": 20,
     "metadata": {},
     "output_type": "execute_result"
    }
   ],
   "source": [
    "#Area under ROC curve\n",
    "import sklearn.metrics\n",
    "sklearn.metrics.roc_auc_score(Y_test,classifier.predict_proba(X_test)[:,1])"
   ]
  },
  {
   "cell_type": "code",
   "execution_count": 21,
   "id": "58952b84",
   "metadata": {},
   "outputs": [
    {
     "data": {
      "image/png": "[encoded data removed]",
      "text/plain": [
       "<Figure size 1200x1200 with 1 Axes>"
      ]
     },
     "metadata": {},
     "output_type": "display_data"
    }
   ],
   "source": [
    "from matplotlib import pyplot as plt\n",
    "plt.figure(figsize=(12,12))\n",
    "sklearn.tree.plot_tree(classifier, feature_names=X.columns,class_names=['0','1'], fontsize=8)\n",
    "plt.show()"
   ]
  },
  {
   "cell_type": "code",
   "execution_count": 22,
   "id": "c6ee20c4",
   "metadata": {},
   "outputs": [
    {
     "ename": "TypeError",
     "evalue": "'DecisionTreeClassifier' object is not subscriptable",
     "output_type": "error",
     "traceback": [
      "\u001b[1;31m---------------------------------------------------------------------------\u001b[0m",
      "\u001b[1;31mTypeError\u001b[0m                                 Traceback (most recent call last)",
      "\u001b[1;32m<ipython-input-22-0decedea242e>\u001b[0m in \u001b[0;36m<module>\u001b[1;34m\u001b[0m\n\u001b[1;32m----> 1\u001b[1;33m \u001b[0mclassifier\u001b[0m\u001b[1;33m[\u001b[0m\u001b[1;34m'X_test'\u001b[0m\u001b[1;33m]\u001b[0m\u001b[1;33m\u001b[0m\u001b[1;33m\u001b[0m\u001b[0m\n\u001b[0m",
      "\u001b[1;31mTypeError\u001b[0m: 'DecisionTreeClassifier' object is not subscriptable"
     ]
    }
   ],
   "source": [
    "classifier['X_test']"
   ]
  },
  {
   "cell_type": "code",
   "execution_count": null,
   "id": "3fa8b4a0",
   "metadata": {},
   "outputs": [],
   "source": []
  },
  {
   "cell_type": "code",
   "execution_count": null,
   "id": "24e34f56",
   "metadata": {},
   "outputs": [],
   "source": []
  }
 ],
 "metadata": {
  "kernelspec": {
   "display_name": "Python 3",
   "language": "python",
   "name": "python3"
  },
  "language_info": {
   "codemirror_mode": {
    "name": "ipython",
    "version": 3
   },
   "file_extension": ".py",
   "mimetype": "text/x-python",
   "name": "python",
   "nbconvert_exporter": "python",
   "pygments_lexer": "ipython3",
   "version": "3.8.8"
  }
 },
 "nbformat": 4,
 "nbformat_minor": 5
}
