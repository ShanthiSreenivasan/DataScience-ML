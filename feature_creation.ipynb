{
 "cells": [
  {
   "cell_type": "code",
   "execution_count": 8,
   "id": "ef5b5d58",
   "metadata": {},
   "outputs": [],
   "source": [
    "import pandas as pd # IMport for data manipulation"
   ]
  },
  {
   "cell_type": "code",
   "execution_count": 9,
   "id": "7badd335",
   "metadata": {},
   "outputs": [],
   "source": [
    "import featuretools as ft\n",
    "import pandas as pd\n",
    "from sklearn.preprocessing import LabelEncoder\n",
    "from sklearn.feature_selection import SelectKBest\n",
    "from sklearn.feature_selection import f_classif\n",
    "from sklearn.feature_selection import mutual_info_regression\n",
    "from numpy import set_printoptions\n",
    "from sklearn.ensemble import ExtraTreesClassifier\n",
    "from sklearn.decomposition import PCA\n",
    "import pandas as pd\n",
    "import numpy as np\n",
    "from sklearn.preprocessing import LabelEncoder"
   ]
  },
  {
   "cell_type": "code",
   "execution_count": 3,
   "id": "6bd76b90",
   "metadata": {},
   "outputs": [
    {
     "name": "stdout",
     "output_type": "stream",
     "text": [
      "   Row ID        Order ID  Order Date   Ship Date       Ship Mode Customer ID  \\\n",
      "0       1  CA-2016-152156   11/8/2016  11/11/2016    Second Class    CG-12520   \n",
      "1       2  CA-2016-152156   11/8/2016  11/11/2016    Second Class    CG-12520   \n",
      "2       3  CA-2016-138688   6/12/2016   6/16/2016    Second Class    DV-13045   \n",
      "3       4  US-2015-108966  10/11/2015  10/18/2015  Standard Class    SO-20335   \n",
      "4       5  US-2015-108966  10/11/2015  10/18/2015  Standard Class    SO-20335   \n",
      "\n",
      "     Customer Name    Segment        Country             City  ...  \\\n",
      "0      Claire Gute   Consumer  United States        Henderson  ...   \n",
      "1      Claire Gute   Consumer  United States        Henderson  ...   \n",
      "2  Darrin Van Huff  Corporate  United States      Los Angeles  ...   \n",
      "3   Sean O'Donnell   Consumer  United States  Fort Lauderdale  ...   \n",
      "4   Sean O'Donnell   Consumer  United States  Fort Lauderdale  ...   \n",
      "\n",
      "  Postal Code  Region       Product ID         Category Sub-Category  \\\n",
      "0       42420   South  FUR-BO-10001798        Furniture    Bookcases   \n",
      "1       42420   South  FUR-CH-10000454        Furniture       Chairs   \n",
      "2       90036    West  OFF-LA-10000240  Office Supplies       Labels   \n",
      "3       33311   South  FUR-TA-10000577        Furniture       Tables   \n",
      "4       33311   South  OFF-ST-10000760  Office Supplies      Storage   \n",
      "\n",
      "                                        Product Name     Sales  Quantity  \\\n",
      "0                  Bush Somerset Collection Bookcase  261.9600         2   \n",
      "1  Hon Deluxe Fabric Upholstered Stacking Chairs,...  731.9400         3   \n",
      "2  Self-Adhesive Address Labels for Typewriters b...   14.6200         2   \n",
      "3      Bretford CR4500 Series Slim Rectangular Table  957.5775         5   \n",
      "4                     Eldon Fold 'N Roll Cart System   22.3680         2   \n",
      "\n",
      "   Discount    Profit  \n",
      "0      0.00   41.9136  \n",
      "1      0.00  219.5820  \n",
      "2      0.00    6.8714  \n",
      "3      0.45 -383.0310  \n",
      "4      0.20    2.5164  \n",
      "\n",
      "[5 rows x 21 columns]\n",
      "   Row ID     Sales  Ship Mode  Segment  City  State  Postal Code  Region  \\\n",
      "0       1  261.9600          2        0   194     15          217       2   \n",
      "1       2  731.9400          2        0   194     15          217       2   \n",
      "2       3   14.6200          2        1   266      3          517       3   \n",
      "3       4  957.5775          3        0   153      8          170       2   \n",
      "4       5   22.3680          3        0   153      8          170       2   \n",
      "\n",
      "   Category  Sub-Category  Product Name  Quantity  Discount    Profit  \n",
      "0         0             4           386         2      0.00   41.9136  \n",
      "1         0             5           839         3      0.00  219.5820  \n",
      "2         1            10          1433         2      0.00    6.8714  \n",
      "3         0            16           366         5      0.45 -383.0310  \n",
      "4         1            14           573         2      0.20    2.5164  \n",
      "[0.04395659 0.09949392 0.03976169 0.13004129 0.01237811 0.03255977\n",
      " 0.069504   0.14728967 0.11058745 0.0263807  0.14546477 0.14258204]\n"
     ]
    }
   ],
   "source": [
    "superstore = pd.read_csv(\"sample-superstore.csv\")\n",
    "print(superstore.head())\n",
    "\n",
    "superstore_encoded = superstore.copy()\n",
    "\n",
    "superstore_encoded = superstore_encoded[['Row ID', 'Sales', 'Ship Mode','Segment','City','State','Postal Code','Region','Category','Sub-Category','Product Name','Quantity','Discount','Profit']]\n",
    "\n",
    "le = LabelEncoder()\n",
    "superstore_encoded['Ship Mode'] = le.fit_transform(superstore_encoded['Ship Mode'].values)\n",
    "superstore_encoded['Segment'] = le.fit_transform(superstore_encoded['Segment'].values)\n",
    "superstore_encoded['City'] = le.fit_transform(superstore_encoded['City'].values)\n",
    "superstore_encoded['State'] = le.fit_transform(superstore_encoded['State'].values)\n",
    "superstore_encoded['Postal Code'] = le.fit_transform(superstore_encoded['Postal Code'].values)\n",
    "superstore_encoded['Region'] = le.fit_transform(superstore_encoded['Region'].values)\n",
    "superstore_encoded['Category'] = le.fit_transform(superstore_encoded['Category'].values)\n",
    "superstore_encoded['Sub-Category'] = le.fit_transform(superstore_encoded['Sub-Category'].values)\n",
    "superstore_encoded['Product Name'] = le.fit_transform(superstore_encoded['Product Name'].values)\n",
    "print(superstore_encoded.head())\n",
    "\n",
    "\n",
    "feature_cols = ['Ship Mode','City','State','Postal Code','Region','Category','Sub-Category','Product Name','Quantity','Discount','Profit','Sales']\n",
    "\n",
    "X = superstore_encoded[feature_cols] # Features\n",
    "Y = superstore_encoded.Segment # Target variable\n",
    "\n",
    "# feature extraction\n",
    "model = ExtraTreesClassifier(n_estimators=10)\n",
    "model.fit(X, Y)\n",
    "print(model.feature_importances_)"
   ]
  },
  {
   "cell_type": "code",
   "execution_count": 10,
   "id": "8b93383c",
   "metadata": {},
   "outputs": [
    {
     "name": "stdout",
     "output_type": "stream",
     "text": [
      "   Row ID        Order ID  Order Date   Ship Date       Ship Mode Customer ID  \\\n",
      "0       1  CA-2016-152156   11/8/2016  11/11/2016    Second Class    CG-12520   \n",
      "1       2  CA-2016-152156   11/8/2016  11/11/2016    Second Class    CG-12520   \n",
      "2       3  CA-2016-138688   6/12/2016   6/16/2016    Second Class    DV-13045   \n",
      "3       4  US-2015-108966  10/11/2015  10/18/2015  Standard Class    SO-20335   \n",
      "4       5  US-2015-108966  10/11/2015  10/18/2015  Standard Class    SO-20335   \n",
      "\n",
      "     Customer Name    Segment        Country             City  ...  \\\n",
      "0      Claire Gute   Consumer  United States        Henderson  ...   \n",
      "1      Claire Gute   Consumer  United States        Henderson  ...   \n",
      "2  Darrin Van Huff  Corporate  United States      Los Angeles  ...   \n",
      "3   Sean O'Donnell   Consumer  United States  Fort Lauderdale  ...   \n",
      "4   Sean O'Donnell   Consumer  United States  Fort Lauderdale  ...   \n",
      "\n",
      "  Postal Code  Region       Product ID         Category Sub-Category  \\\n",
      "0       42420   South  FUR-BO-10001798        Furniture    Bookcases   \n",
      "1       42420   South  FUR-CH-10000454        Furniture       Chairs   \n",
      "2       90036    West  OFF-LA-10000240  Office Supplies       Labels   \n",
      "3       33311   South  FUR-TA-10000577        Furniture       Tables   \n",
      "4       33311   South  OFF-ST-10000760  Office Supplies      Storage   \n",
      "\n",
      "                                        Product Name     Sales  Quantity  \\\n",
      "0                  Bush Somerset Collection Bookcase  261.9600         2   \n",
      "1  Hon Deluxe Fabric Upholstered Stacking Chairs,...  731.9400         3   \n",
      "2  Self-Adhesive Address Labels for Typewriters b...   14.6200         2   \n",
      "3      Bretford CR4500 Series Slim Rectangular Table  957.5775         5   \n",
      "4                     Eldon Fold 'N Roll Cart System   22.3680         2   \n",
      "\n",
      "   Discount    Profit  \n",
      "0      0.00   41.9136  \n",
      "1      0.00  219.5820  \n",
      "2      0.00    6.8714  \n",
      "3      0.45 -383.0310  \n",
      "4      0.20    2.5164  \n",
      "\n",
      "[5 rows x 21 columns]\n",
      "Entityset: superstore_sales\n",
      "  Entities:\n",
      "    superstore [Rows: 9994, Columns: 10]\n",
      "    customer [Rows: 793, Columns: 8]\n",
      "    product [Rows: 1862, Columns: 4]\n",
      "  Relationships:\n",
      "    superstore.Customer ID -> customer.Customer ID\n",
      "    superstore.Product ID -> product.Product ID\n",
      "Built 75 features\n",
      "EntitySet scattered to 3 workers in 2 seconds\n",
      "Elapsed: 00:02 | Progress: 100%|██████████\n",
      "Index(['Order ID', 'Ship Mode', 'Customer ID', 'Product ID', 'Quantity',\n",
      "       'Discount', 'Profit', 'DAY(Order Date)', 'DAY(Ship Date)',\n",
      "       'MONTH(Order Date)', 'MONTH(Ship Date)', 'WEEKDAY(Order Date)',\n",
      "       'WEEKDAY(Ship Date)', 'YEAR(Order Date)', 'YEAR(Ship Date)',\n",
      "       'customer.Customer Name', 'customer.Segment', 'customer.Country',\n",
      "       'customer.City', 'customer.State', 'customer.Postal Code',\n",
      "       'customer.Region', 'product.Category', 'product.Sub-Category',\n",
      "       'product.Product Name', 'customer.COUNT(superstore)',\n",
      "       'customer.MAX(superstore.Discount)', 'customer.MAX(superstore.Profit)',\n",
      "       'customer.MAX(superstore.Quantity)',\n",
      "       'customer.MEAN(superstore.Discount)',\n",
      "       'customer.MEAN(superstore.Profit)',\n",
      "       'customer.MEAN(superstore.Quantity)',\n",
      "       'customer.MIN(superstore.Discount)', 'customer.MIN(superstore.Profit)',\n",
      "       'customer.MIN(superstore.Quantity)',\n",
      "       'customer.MODE(superstore.Order ID)',\n",
      "       'customer.MODE(superstore.Product ID)',\n",
      "       'customer.MODE(superstore.Ship Mode)',\n",
      "       'customer.NUM_UNIQUE(superstore.Order ID)',\n",
      "       'customer.NUM_UNIQUE(superstore.Product ID)',\n",
      "       'customer.NUM_UNIQUE(superstore.Ship Mode)',\n",
      "       'customer.SKEW(superstore.Discount)',\n",
      "       'customer.SKEW(superstore.Profit)',\n",
      "       'customer.SKEW(superstore.Quantity)',\n",
      "       'customer.STD(superstore.Discount)', 'customer.STD(superstore.Profit)',\n",
      "       'customer.STD(superstore.Quantity)',\n",
      "       'customer.SUM(superstore.Discount)', 'customer.SUM(superstore.Profit)',\n",
      "       'customer.SUM(superstore.Quantity)', 'product.COUNT(superstore)',\n",
      "       'product.MAX(superstore.Discount)', 'product.MAX(superstore.Profit)',\n",
      "       'product.MAX(superstore.Quantity)', 'product.MEAN(superstore.Discount)',\n",
      "       'product.MEAN(superstore.Profit)', 'product.MEAN(superstore.Quantity)',\n",
      "       'product.MIN(superstore.Discount)', 'product.MIN(superstore.Profit)',\n",
      "       'product.MIN(superstore.Quantity)',\n",
      "       'product.MODE(superstore.Customer ID)',\n",
      "       'product.MODE(superstore.Order ID)',\n",
      "       'product.MODE(superstore.Ship Mode)',\n",
      "       'product.NUM_UNIQUE(superstore.Customer ID)',\n",
      "       'product.NUM_UNIQUE(superstore.Order ID)',\n",
      "       'product.NUM_UNIQUE(superstore.Ship Mode)',\n",
      "       'product.SKEW(superstore.Discount)', 'product.SKEW(superstore.Profit)',\n",
      "       'product.SKEW(superstore.Quantity)', 'product.STD(superstore.Discount)',\n",
      "       'product.STD(superstore.Profit)', 'product.STD(superstore.Quantity)',\n",
      "       'product.SUM(superstore.Discount)', 'product.SUM(superstore.Profit)',\n",
      "       'product.SUM(superstore.Quantity)'],\n",
      "      dtype='object')\n",
      "              Order ID       Ship Mode Customer ID       Product ID  Quantity  \\\n",
      "Row ID                                                                          \n",
      "1       CA-2016-152156    Second Class    CG-12520  FUR-BO-10001798         2   \n",
      "2       CA-2016-152156    Second Class    CG-12520  FUR-CH-10000454         3   \n",
      "3       CA-2016-138688    Second Class    DV-13045  OFF-LA-10000240         2   \n",
      "4       US-2015-108966  Standard Class    SO-20335  FUR-TA-10000577         5   \n",
      "5       US-2015-108966  Standard Class    SO-20335  OFF-ST-10000760         2   \n",
      "\n",
      "        Discount    Profit  DAY(Order Date)  DAY(Ship Date)  \\\n",
      "Row ID                                                        \n",
      "1           0.00   41.9136                8              11   \n",
      "2           0.00  219.5820                8              11   \n",
      "3           0.00    6.8714               12              16   \n",
      "4           0.45 -383.0310               11              18   \n",
      "5           0.20    2.5164               11              18   \n",
      "\n",
      "        MONTH(Order Date)  ...  product.NUM_UNIQUE(superstore.Ship Mode)  \\\n",
      "Row ID                     ...                                             \n",
      "1                      11  ...                                         3   \n",
      "2                      11  ...                                         3   \n",
      "3                       6  ...                                         2   \n",
      "4                      10  ...                                         2   \n",
      "5                      10  ...                                         3   \n",
      "\n",
      "        product.SKEW(superstore.Discount)  product.SKEW(superstore.Profit)  \\\n",
      "Row ID                                                                       \n",
      "1                                1.007035                        -0.933631   \n",
      "2                                0.056407                         1.483837   \n",
      "3                                0.374166                         2.300558   \n",
      "4                               -0.640879                        -0.042550   \n",
      "5                               -0.608581                         2.191114   \n",
      "\n",
      "        product.SKEW(superstore.Quantity)  product.STD(superstore.Discount)  \\\n",
      "Row ID                                                                        \n",
      "1                                1.414214                          0.209662   \n",
      "2                                0.761137                          0.124011   \n",
      "3                                1.487473                          0.106904   \n",
      "4                               -0.820896                          0.182737   \n",
      "5                                1.135664                          0.109545   \n",
      "\n",
      "       product.STD(superstore.Profit) product.STD(superstore.Quantity)  \\\n",
      "Row ID                                                                   \n",
      "1                           55.336789                         1.414214   \n",
      "2                          170.137853                         2.454125   \n",
      "3                            8.338894                         2.429972   \n",
      "4                          211.860513                         1.505941   \n",
      "5                           17.874292                         3.898718   \n",
      "\n",
      "       product.SUM(superstore.Discount) product.SUM(superstore.Profit)  \\\n",
      "Row ID                                                                   \n",
      "1                                  0.85                       -56.3214   \n",
      "2                                  1.70                      1927.4420   \n",
      "3                                  0.60                        64.4011   \n",
      "4                                  2.10                      -532.7613   \n",
      "5                                  0.60                        63.7488   \n",
      "\n",
      "       product.SUM(superstore.Quantity)  \n",
      "Row ID                                   \n",
      "1                                    12  \n",
      "2                                    51  \n",
      "3                                    23  \n",
      "4                                    29  \n",
      "5                                    24  \n",
      "\n",
      "[5 rows x 75 columns]\n"
     ]
    }
   ],
   "source": [
    "import featuretools as ft\n",
    "import pandas as pd\n",
    "from sklearn.preprocessing import LabelEncoder\n",
    "from sklearn.feature_selection import SelectKBest\n",
    "from sklearn.feature_selection import f_classif\n",
    "from sklearn.feature_selection import mutual_info_regression\n",
    "from numpy import set_printoptions\n",
    "\n",
    "from sklearn.tree import DecisionTreeRegressor # Import Decision Tree Regressor\n",
    "from sklearn.model_selection import train_test_split # Import train_test_split function\n",
    "\n",
    "def main():\n",
    "\tsuperstore = pd.read_csv(\"sample-superstore.csv\")\n",
    "\tprint(superstore.head())\n",
    "\n",
    "\trow_Identifier = superstore['Row ID']\n",
    "\tcustomer_Identifier = superstore['Customer ID']\n",
    "\torder_Identifier = superstore['Order ID']\n",
    "\tproduct_Identifier = superstore['Product ID']\n",
    "\tsales_target = superstore.Sales\n",
    "\tsuperstore.drop(['Sales'], axis=1, inplace=True)\n",
    "\n",
    "\t# creating and entity set 'es'\n",
    "\tes = ft.EntitySet(id = 'superstore_sales')\n",
    "\t# adding a dataframe \n",
    "\tes.entity_from_dataframe(entity_id = 'superstore', dataframe = superstore, index = 'Row ID')\n",
    "\tes.normalize_entity(base_entity_id='superstore', new_entity_id='customer', index = 'Customer ID', additional_variables = ['Customer Name', 'Segment', 'Country', 'City', 'State', 'Postal Code', 'Region'])\n",
    "\tes.normalize_entity(base_entity_id='superstore', new_entity_id='product', index = 'Product ID', additional_variables = ['Category', 'Sub-Category', 'Product Name'])\n",
    "\tprint(es)\n",
    "\tfeature_matrix, feature_names = ft.dfs(entityset=es, \n",
    "\ttarget_entity = 'superstore', \n",
    "\tmax_depth = 2, \n",
    "\tverbose = 1, \n",
    "\tn_jobs = 3)\n",
    "\tprint(feature_matrix.columns)\n",
    "\tprint(feature_matrix.head())\n",
    "\n",
    "if __name__ == \"__main__\":\n",
    "    main()"
   ]
  },
  {
   "cell_type": "code",
   "execution_count": 4,
   "id": "a862cd9e",
   "metadata": {},
   "outputs": [],
   "source": [
    "data = pd.read_csv(\"sample-superstore.csv\") # Reading Data"
   ]
  },
  {
   "cell_type": "code",
   "execution_count": 5,
   "id": "262e1043",
   "metadata": {},
   "outputs": [],
   "source": [
    "threshold = 0.7\n",
    "#Dropping columns with missing value rate higher than threshold\n",
    "data = data[data.columns[data.isnull().mean() < threshold]]\n",
    "\n",
    "#Dropping rows with missing value rate higher than threshold\n",
    "data = data.loc[data.isnull().mean(axis=1) < threshold]"
   ]
  },
  {
   "cell_type": "code",
   "execution_count": 6,
   "id": "4786d69d",
   "metadata": {},
   "outputs": [],
   "source": [
    "#Filling all missing values with 0\n",
    "data = data.fillna(0)\n",
    "#Filling missing values with medians of the columns\n",
    "data = data.fillna(data.median())"
   ]
  },
  {
   "cell_type": "code",
   "execution_count": 7,
   "id": "0da4d912",
   "metadata": {},
   "outputs": [],
   "source": [
    "#Max fill function for categorical columns\n",
    "data['Sales'].fillna(data['Sales'].value_counts().idxmax(), inplace=True)"
   ]
  },
  {
   "cell_type": "code",
   "execution_count": 8,
   "id": "d1107570",
   "metadata": {},
   "outputs": [],
   "source": [
    "superstore_encoded = superstore.copy() # Making a copy for encoded new DF"
   ]
  },
  {
   "cell_type": "code",
   "execution_count": 10,
   "id": "f6647045",
   "metadata": {},
   "outputs": [],
   "source": [
    "# Taking variable which is only required for Prediction\n",
    "superstore_encoded = superstore_encoded[['Row ID','Sales','Ship Mode','Segment','City','State', 'Postal Code', 'Region', 'Category', 'Sub-Category','Product Name', 'Quantity', 'Discount', 'Profit']]"
   ]
  },
  {
   "cell_type": "code",
   "execution_count": 16,
   "id": "d829ef30",
   "metadata": {},
   "outputs": [],
   "source": [
    "from sklearn.preprocessing import LabelEncoder # Importing for encoding"
   ]
  },
  {
   "cell_type": "code",
   "execution_count": 17,
   "id": "d5294a95",
   "metadata": {},
   "outputs": [],
   "source": [
    "le = LabelEncoder() # instatinate the label encoder class"
   ]
  },
  {
   "cell_type": "code",
   "execution_count": 52,
   "id": "3ad408e7",
   "metadata": {},
   "outputs": [],
   "source": [
    "# encoding all string values\n",
    "\n",
    "superstore_encoded['Ship Mode'] = le.fit_transform(superstore_encoded['Ship Mode'].values) # encode ship mode\n",
    "superstore_encoded['Segment'] = le.fit_transform(superstore_encoded['Segment'].values) # encode segment\n",
    "superstore_encoded['City'] = le.fit_transform(superstore_encoded['City'].values) # encode city\n",
    "superstore_encoded['State'] = le.fit_transform(superstore_encoded['State'].values) # encode state\n",
    "superstore_encoded['Postal Code'] = le.fit_transform(superstore_encoded['Postal Code'].values) # encode postal code\n",
    "superstore_encoded['Region'] = le.fit_transform(superstore_encoded['Region'].values) # encode region\n",
    "superstore_encoded['Category'] = le.fit_transform(superstore_encoded['Category'].values) # encode cat\n",
    "superstore_encoded['Sub-Category'] = le.fit_transform(superstore_encoded['Sub-Category'].values) # encode subcat\n",
    "superstore_encoded['Product Name'] = le.fit_transform(superstore_encoded['Product Name'].values) # encode product name\n",
    "\n",
    "# New feature created from existing variable of sales and profit\n",
    "superstore_encoded['ProfitPercent'] = round(superstore_encoded['Profit']/superstore_encoded['Sales'], 2)"
   ]
  },
  {
   "cell_type": "code",
   "execution_count": 85,
   "id": "ff7b0eeb",
   "metadata": {},
   "outputs": [
    {
     "data": {
      "text/plain": [
       "array([0, 1, 2], dtype=int64)"
      ]
     },
     "execution_count": 85,
     "metadata": {},
     "output_type": "execute_result"
    }
   ],
   "source": [
    "superstore_encoded.Segment.unique()"
   ]
  },
  {
   "cell_type": "code",
   "execution_count": 28,
   "id": "c6e4c006",
   "metadata": {},
   "outputs": [],
   "source": [
    "# Target is Sales - continuous"
   ]
  },
  {
   "cell_type": "code",
   "execution_count": 112,
   "id": "5a0becfd",
   "metadata": {},
   "outputs": [],
   "source": [
    "# Possible Feature to predict Sales\n",
    "feature_cols = ['Sub-Category','Profit', 'ProfitPercent']\n",
    "feature_cols_new = ['Discount', 'Sub-Category','Product Name','Quantity', 'Profit','ProfitPercent']"
   ]
  },
  {
   "cell_type": "code",
   "execution_count": 113,
   "id": "6a266723",
   "metadata": {},
   "outputs": [],
   "source": [
    "# Define input and output \n",
    "X = superstore_encoded[feature_cols]\n",
    "Y = superstore_encoded['Sales']"
   ]
  },
  {
   "cell_type": "code",
   "execution_count": 114,
   "id": "41b05703",
   "metadata": {},
   "outputs": [],
   "source": [
    "from sklearn.model_selection import train_test_split\n",
    "# Training and Testing Size Split\n",
    "X_train, X_test, y_train, y_test = train_test_split(X,Y, test_size=0.3,random_state=1)"
   ]
  },
  {
   "cell_type": "code",
   "execution_count": 115,
   "id": "8a6490fe",
   "metadata": {},
   "outputs": [],
   "source": [
    "from sklearn.tree import DecisionTreeRegressor\n",
    "sales_model = DecisionTreeRegressor() # instatinate the model"
   ]
  },
  {
   "cell_type": "code",
   "execution_count": 116,
   "id": "f52fd61e",
   "metadata": {},
   "outputs": [],
   "source": [
    "sales_model = sales_model.fit(X_train,y_train) # Train the model"
   ]
  },
  {
   "cell_type": "code",
   "execution_count": 117,
   "id": "e5eb296a",
   "metadata": {},
   "outputs": [],
   "source": [
    "y_pred = sales_model.predict(X_test) # Predict The Values"
   ]
  },
  {
   "cell_type": "code",
   "execution_count": 118,
   "id": "3c04dab7",
   "metadata": {},
   "outputs": [],
   "source": [
    "from sklearn.metrics import r2_score"
   ]
  },
  {
   "cell_type": "code",
   "execution_count": 119,
   "id": "7d38946a",
   "metadata": {},
   "outputs": [
    {
     "data": {
      "text/plain": [
       "0.9276066637484083"
      ]
     },
     "execution_count": 119,
     "metadata": {},
     "output_type": "execute_result"
    }
   ],
   "source": [
    "r2 = r2_score(y_test,y_pred) # Check R2 Values - how accurate\n",
    "r2"
   ]
  },
  {
   "cell_type": "code",
   "execution_count": null,
   "id": "22edb286",
   "metadata": {},
   "outputs": [],
   "source": []
  }
 ],
 "metadata": {
  "kernelspec": {
   "display_name": "Python 3",
   "language": "python",
   "name": "python3"
  },
  "language_info": {
   "codemirror_mode": {
    "name": "ipython",
    "version": 3
   },
   "file_extension": ".py",
   "mimetype": "text/x-python",
   "name": "python",
   "nbconvert_exporter": "python",
   "pygments_lexer": "ipython3",
   "version": "3.8.8"
  }
 },
 "nbformat": 4,
 "nbformat_minor": 5
}
